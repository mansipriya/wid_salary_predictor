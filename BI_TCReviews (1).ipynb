{
 "cells": [
  {
   "cell_type": "markdown",
   "id": "e80fb397-b107-4e6c-8f68-f97800db82fd",
   "metadata": {},
   "source": [
    "### Import data from BQ"
   ]
  },
  {
   "cell_type": "code",
   "execution_count": 7,
   "id": "306d832f-31c5-4139-987d-331eb2ceaa77",
   "metadata": {},
   "outputs": [
    {
     "name": "stderr",
     "output_type": "stream",
     "text": [
      "Query complete after 0.00s: 100%|██████████| 2/2 [00:00<00:00, 1828.38query/s]                        \n",
      "Downloading: 100%|██████████| 496437/496437 [00:00<00:00, 506530.53rows/s]\n"
     ]
    }
   ],
   "source": [
    "%%bigquery comments\n",
    "Select Star_Rating, Review_Text FROM `truecaller-analytics-eu.google_play.p_Reviews__truecaller` where ARRAY_LENGTH(SPLIT(Review_Text,\" \")) > 1"
   ]
  },
  {
   "cell_type": "markdown",
   "id": "0b006a94-c05c-47af-a197-e817ec6d2135",
   "metadata": {},
   "source": [
    "### Data preprocessing"
   ]
  },
  {
   "cell_type": "code",
   "execution_count": null,
   "id": "813035db-822e-40b2-9f2a-7d94417f401f",
   "metadata": {},
   "outputs": [],
   "source": [
    "def generate_regex(text):\n",
    "    digits = re.compile(r'\\d+')\n",
    "    links = re.compile(r'http\\S+')\n",
    "    digits_and_alphabets = re.compile(r'[^A-Za-z0-9 ]+')\n",
    "    punctuation= re.compile('['+string.punctuation+']')\n",
    "    vowels = re.compile(r'^[aeiou]+$')\n",
    "    re_list = [digits_and_alphabets, digits, links, punctuation, vowels]\n",
    "\n",
    "    pattern_combined = '|'.join(x.pattern for x in re_list)\n",
    "    words = re.sub(pattern_combined, \"\", text).strip().split()\n",
    "    return \" \".join(sorted(set(words), key=words.index))"
   ]
  },
  {
   "cell_type": "code",
   "execution_count": null,
   "id": "c5df6d7e-540a-4f34-aef2-b2e9767fc4eb",
   "metadata": {},
   "outputs": [],
   "source": []
  },
  {
   "cell_type": "code",
   "execution_count": null,
   "id": "6e86a955-1a64-462a-a8f6-e4b95bcecf6c",
   "metadata": {},
   "outputs": [],
   "source": []
  },
  {
   "cell_type": "code",
   "execution_count": null,
   "id": "660892c7-ebbc-4bf1-a3c9-cf0819369f8c",
   "metadata": {},
   "outputs": [],
   "source": []
  },
  {
   "cell_type": "code",
   "execution_count": null,
   "id": "c3ec1be7-68d2-42bf-b71e-6c6ea0b78733",
   "metadata": {},
   "outputs": [],
   "source": []
  },
  {
   "cell_type": "code",
   "execution_count": null,
   "id": "1b26e1f2-d759-4b5b-b32f-4bc598ab0c58",
   "metadata": {},
   "outputs": [],
   "source": []
  },
  {
   "cell_type": "code",
   "execution_count": null,
   "id": "c85bd803-be71-41d9-94ec-d9164075eb62",
   "metadata": {},
   "outputs": [],
   "source": []
  }
 ],
 "metadata": {
  "kernelspec": {
   "display_name": "Python 3 (ipykernel)",
   "language": "python",
   "name": "python3"
  },
  "language_info": {
   "codemirror_mode": {
    "name": "ipython",
    "version": 3
   },
   "file_extension": ".py",
   "mimetype": "text/x-python",
   "name": "python",
   "nbconvert_exporter": "python",
   "pygments_lexer": "ipython3",
   "version": "3.9.7"
  }
 },
 "nbformat": 4,
 "nbformat_minor": 5
}
